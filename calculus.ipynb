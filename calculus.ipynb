{
 "cells": [
  {
   "cell_type": "code",
   "execution_count": 1,
   "id": "3891bc94",
   "metadata": {
    "scrolled": true
   },
   "outputs": [],
   "source": [
    "import numpy as np\n",
    "import math\n",
    "import matplotlib\n",
    "import matplotlib.pyplot as plt"
   ]
  },
  {
   "attachments": {},
   "cell_type": "markdown",
   "id": "3be2186d",
   "metadata": {},
   "source": [
    "Single Variable Calculus"
   ]
  },
  {
   "cell_type": "code",
   "execution_count": 7,
   "id": "a9d08747",
   "metadata": {},
   "outputs": [],
   "source": [
    "# precision and domain data\n",
    "epst = 0.01;\n",
    "epsy = 10**(-6);\n",
    "tmin = -1.;\n",
    "tmax = 1.;\n",
    "num_tvals = int(math.ceil((tmax - tmin)/epst));\n",
    "tvals = np.arange(tmin, tmax + epst, epst);\n",
    "tvals[-1] = tmax;"
   ]
  },
  {
   "cell_type": "code",
   "execution_count": 14,
   "id": "bf4baad5",
   "metadata": {},
   "outputs": [],
   "source": [
    "# calculus with tables of values over tvals\n",
    "def table(func):\n",
    "    # returns a table of the function's values at each t value\n",
    "    return func(tvals)\n",
    "\n",
    "def plot_from_table(tab):\n",
    "    # plots the function \n",
    "    plt.plot(tvals, tab, 'r')\n",
    "    plt.show()\n",
    "\n",
    "def derivative_table(tab):\n",
    "    # returns the derivative's table\n",
    "    # since we only use tvals, it is less precise at the endpoints\n",
    "    vals = np.array([(tab[i + 1] - tab[i - 1])/(2 * epst) for i in np.delete(range(len(tab)), [0, -1])])\n",
    "    return np.concatenate((np.array([(tab[1] - tab[0])/(epst)]),  vals, np.array([(tab[-1] - tab[-2])/epst])), 0)\n",
    "\n",
    "def antiderivative_table(tab, t0, y0):\n",
    "    # integrates the function from the table and  guarantees that F(t0) = y0\n",
    "    # calculate the antiderivative F such that F(tmin) = 0 (i.e. integrate from tmin)\n",
    "    yvals = [0]\n",
    "    y = 0\n",
    "    for i in range(num_tvals):\n",
    "        # print(y)\n",
    "        y += (tab[i] + tab[i + 1])/2 * epst\n",
    "        yvals.append(y)\n",
    "\n",
    "    Ft0 = func_from_table(yvals)(t0)\n",
    "    yvals = np.array(yvals) + y0 - Ft0\n",
    "    return np.array(yvals)\n",
    "\n",
    "def ODE_IVP(expr, t0, y0):\n",
    "    # attempts to numerically solve the ODE y' = expr, where expr = F(t, y), y(t0) = y0\n",
    "    # enter expr as a function of t & y, t0 & y0 are reals\n",
    "    # returns a table of values of y or prints that there is an error\n",
    "    try:\n",
    "        # big idea: work forward and backward from t0, over two separate lists\n",
    "        # \n",
    "        upper_index = list(map(lambda a: a >= t0, tvals)).index(1)\n",
    "        tfor = tvals[upper_index:] #tvals going forward from t0\n",
    "        tback = tvals[:upper_index] # tvals going backward\n",
    "        dist = (t0 - tvals[upper_index - 1])  #distance to lower tm -> 1 - t is dist to tM\n",
    "        expr0 = expr(t0, y0) # derivative at (t0, y0)\n",
    "        ym, yM= y0 - dist * expr0, y0 + (epst - dist) * expr0 # usual linear approximation\n",
    "        yfor, yback = [yM], [ym]\n",
    "        for i in range(len(tfor) - 1):\n",
    "            yfor.append(yfor[-1] + expr(tfor[i], yfor[i]) * epst)\n",
    "        for i in range(len(tback) - 1):\n",
    "            yback.insert(0, yback[0] - expr(tback[-i - 1], yback[-i - 1]) * epst)\n",
    "        yvals = np.array(yback + yfor)\n",
    "    except:\n",
    "        print('We could not solve your ODE.  See if you entered valid initial conditions.')\n",
    "    else:\n",
    "        return yvals\n",
    "        \n",
    "def Newton (func, t0, num_tries=20, precision=epsy):\n",
    "    # Uses Newton's method to solve the equation func == 0, beginning at the guess t = t0\n",
    "    def next(t): # find the next term in the \n",
    "        return t - func(t)/ derivative_func(func)(t)\n",
    "    try:\n",
    "        seq = [t0]\n",
    "        for i in range(num_tries):\n",
    "            seq.append(next(seq[-1]))\n",
    "            if abs(func(seq[-1])) < precision:\n",
    "                \n",
    "                print(f'We believe the value t = {seq[-1]} solves your equation.')\n",
    "                print(f'It took {i + 1} tries.')\n",
    "                break\n",
    "    except:\n",
    "        print('We were unable to solve your equation in the number of tries specified.')\n",
    "        print('Try again with a different guess or more tries.')\n",
    "    else:\n",
    "        return seq[-1]\n",
    "\n",
    "# calculus with functions \n",
    "def func_from_table(tab):\n",
    "    # use weighted sums to approximate values of a function based on a table\n",
    "    def func(t):\n",
    "        # make sure t is in our domain\n",
    "        if tmin <= t <= tmax:\n",
    "            if t == tmin:\n",
    "                # then just use the value in the table\n",
    "                return tab[0]\n",
    "            else:\n",
    "                # since t might not be in tvals, we use weights to approximate the value of f(t)\n",
    "                # first we pinpoint which values in tval are closest to t: tm < t <= tM\n",
    "                upper_index = list(map(lambda a: a >= t, tvals)).index(1)\n",
    "                # then we find how close it is to each of the two values and scale by epst to get weights\n",
    "                dist = (t - tvals[upper_index - 1])/epst\n",
    "                # then we take the weighted average of F(t) = (1 - t) F(tm) + t F(tM)\n",
    "                avg = (1 - dist) * tab[upper_index - 1] + dist * tab[upper_index]\n",
    "                return avg\n",
    "        else:\n",
    "            print(\"Please choose a basepoint in the domain\")\n",
    "            return False\n",
    "    return func\n",
    "\n",
    "def plot_from_func(func):\n",
    "    # plots the function \n",
    "    t, y = tvals, list(map(func, tvals))\n",
    "    plt.plot(t, y, 'r')\n",
    "    plt.show()\n",
    "           \n",
    "def derivative_func(func):\n",
    "    # returns the derivative function\n",
    "    return lambda t: (func(t + epst)- func(t - epst))/(2 * epst)   \n",
    "\n",
    "def antiderivative_func(func, t0, y0):\n",
    "    return func_from_table(antiderivative_table(table(func), t0, y0)) \n",
    "                                                                                   "
   ]
  },
  {
   "cell_type": "code",
   "execution_count": 20,
   "id": "90c3ddc6",
   "metadata": {},
   "outputs": [
    {
     "data": {
      "image/png": "[encoded data removed]",
      "text/plain": [
       "<Figure size 640x480 with 1 Axes>"
      ]
     },
     "metadata": {},
     "output_type": "display_data"
    },
    {
     "name": "stdout",
     "output_type": "stream",
     "text": [
      "We believe the value t = 0.6931475967731197 solves your equation.\n",
      "It took 3 tries.\n"
     ]
    },
    {
     "data": {
      "text/plain": [
       "0.6931475967731197"
      ]
     },
     "execution_count": 20,
     "metadata": {},
     "output_type": "execute_result"
    }
   ],
   "source": [
    "f = lambda x: math.e**x - 2\n",
    "f_tab = table(f)\n",
    "df_tab = derivative_table(f_tab)\n",
    "plot_from_table(df_tab)\n",
    "Newton(f, 1)"
   ]
  },
  {
   "cell_type": "code",
   "execution_count": 26,
   "id": "63335a30",
   "metadata": {},
   "outputs": [
    {
     "data": {
      "image/png": "[encoded data removed]",
      "text/plain": [
       "<Figure size 640x480 with 1 Axes>"
      ]
     },
     "metadata": {},
     "output_type": "display_data"
    }
   ],
   "source": [
    "F = lambda x, y: math.e**(x * y)\n",
    "ODE_sol = ODE_IVP(F, 1, 1)\n",
    "plot_from_table(ODE_sol)"
   ]
  },
  {
   "attachments": {},
   "cell_type": "markdown",
   "id": "3a801c19",
   "metadata": {},
   "source": [
    "Multivariate Calculus"
   ]
  },
  {
   "cell_type": "code",
   "execution_count": 27,
   "id": "867fd8b6",
   "metadata": {},
   "outputs": [],
   "source": [
    "# run this first\n",
    "def cartesian_product(*arrays):\n",
    "    # credit to senderle on stackoverflow\n",
    "    la = len(arrays)\n",
    "    dtype = np.result_type(*arrays)\n",
    "    arr = np.empty([len(a) for a in arrays] + [la], dtype=dtype)\n",
    "    for i, a in enumerate(np.ix_(*arrays)):\n",
    "        arr[...,i] = a\n",
    "        # return arr.reshape(-1, la)\n",
    "    return arr\n",
    "\n",
    "def map_level(f, arr, level):\n",
    "    # credit to Eric on stackoverflow, adapted to arrays\n",
    "    # print(arr)\n",
    "    im = []\n",
    "    if level == 0:\n",
    "        return f(arr)\n",
    "    else:\n",
    "        for i in arr:\n",
    "            im.append(map_level(f, i, level - 1))\n",
    "        return im\n",
    "\n",
    "    \n",
    "epst = .1;\n",
    "epsy = 10**(-6);\n",
    "tmin = np.array([-1, -1, -1]); # lower bounds for each variable\n",
    "tmax = np.array([1, 0, 3]); # upper bounds, must be same amount as tmin\n",
    "m = len(tmin)\n",
    "num_tvals = [int(math.ceil((tmax[i] - tmin[i])/epst)) for i in range(m)];\n",
    "tvals0 = [np.arange(tmin[i] , tmax[i] + epst, epst) for i in range(m)]\n",
    "for i in range(m):\n",
    "    tvals0[i][-1] = tmax[i]\n",
    "tvals = cartesian_product(*tuple(tvals0))"
   ]
  },
  {
   "cell_type": "code",
   "execution_count": 31,
   "id": "f3fb672b",
   "metadata": {},
   "outputs": [],
   "source": [
    "# calculus with tables of values over tvals\n",
    "def table_mult(func):\n",
    "    # reads a list of functions and maps each to the lattice of t values\n",
    "    return np.array(map_level(func, tvals, m))\n",
    "\n",
    "\n",
    "def partial_table(tab, var):\n",
    "    # returns a table of partial derivatives with respect to the variable t[var]\n",
    "    axes_list = list(range(m + 1))\n",
    "    axes_list[var], axes_list[m - 1] = m - 1, var\n",
    "    new_tab = np.transpose(tab, tuple(axes_list))\n",
    "    der = map_level(derivative_table, new_tab, m - 1)\n",
    "    return np.transpose(der, tuple(axes_list))\n",
    "\n",
    "def jacobian(tab):\n",
    "    shape_list = list(tab.shape)\n",
    "    shape_list.insert(-1, 1)\n",
    "    new_shape = tuple(shape_list)\n",
    "    arr_list = []\n",
    "    for i in range(m):\n",
    "        par = partial_table(tab, i)\n",
    "        arr_list.append(np.reshape(partial_table(tab, i), new_shape))\n",
    "    return np.concatenate(tuple(arr_list), m)\n",
    "\n",
    "\n",
    "                                                                                   "
   ]
  },
  {
   "cell_type": "code",
   "execution_count": 34,
   "id": "857bb6da",
   "metadata": {},
   "outputs": [
    {
     "data": {
      "text/plain": [
       "array([[-0.9,  0. ],\n",
       "       [ 0. , -1.8],\n",
       "       [-0.9,  0. ]])"
      ]
     },
     "execution_count": 34,
     "metadata": {},
     "output_type": "execute_result"
    }
   ],
   "source": [
    "f = lambda t: [t[0] * t[2], t[1]**2]\n",
    "f_tab = table_mult(f)\n",
    "jacobian(f_tab)[1, 1, 1]"
   ]
  }
 ],
 "metadata": {
  "kernelspec": {
   "display_name": "Python 3",
   "language": "python",
   "name": "python3"
  },
  "language_info": {
   "codemirror_mode": {
    "name": "ipython",
    "version": 3
   },
   "file_extension": ".py",
   "mimetype": "text/x-python",
   "name": "python",
   "nbconvert_exporter": "python",
   "pygments_lexer": "ipython3",
   "version": "3.10.7"
  },
  "vscode": {
   "interpreter": {
    "hash": "0f2f6c680cf484319d387fabac80ca4ff4fc33965036e02100b3fe02600f1423"
   }
  }
 },
 "nbformat": 4,
 "nbformat_minor": 5
}
